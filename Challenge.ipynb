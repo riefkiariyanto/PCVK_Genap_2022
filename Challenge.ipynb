{
  "nbformat": 4,
  "nbformat_minor": 0,
  "metadata": {
    "colab": {
      "name": "Challenge.ipynb",
      "provenance": [],
      "mount_file_id": "1J0h1bptsxz954EkAawZ7eM7QTjDkiftd",
      "authorship_tag": "ABX9TyP6FSb62Pl3Vqi6sXDI8Akc",
      "include_colab_link": true
    },
    "kernelspec": {
      "name": "python3",
      "display_name": "Python 3"
    },
    "language_info": {
      "name": "python"
    }
  },
  "cells": [
    {
      "cell_type": "markdown",
      "metadata": {
        "id": "view-in-github",
        "colab_type": "text"
      },
      "source": [
        "<a href=\"https://colab.research.google.com/github/riefkiariyanto/PCVK_Genap_2022/blob/main/Challenge.ipynb\" target=\"_parent\"><img src=\"https://colab.research.google.com/assets/colab-badge.svg\" alt=\"Open In Colab\"/></a>"
      ]
    },
    {
      "cell_type": "code",
      "execution_count": 2,
      "metadata": {
        "colab": {
          "base_uri": "https://localhost:8080/"
        },
        "id": "h7d0QAF1FyLN",
        "outputId": "2e0d3c8b-f092-40ea-c281-8aa3035144e1"
      },
      "outputs": [
        {
          "output_type": "stream",
          "name": "stdout",
          "text": [
            "Matriks A :\n",
            "[[1 2]\n",
            " [2 1]]\n",
            "Matriks B :\n",
            "[[2 2]\n",
            " [1 1]]\n",
            "Perkalian Matriks : \n",
            "[[2 4]\n",
            " [2 1]]\n"
          ]
        }
      ],
      "source": [
        "import numpy as np\n",
        "\n",
        "# PERKALIAN MATRIKS\n",
        "\n",
        "matriksA = np.array([[1,2],\n",
        "                     [2,1]])\n",
        "matriksB = np.array([[2,2],\n",
        "                     [1,1]])   \n",
        "\n",
        "perkalian_biasa = matriksA*matriksB\n",
        "\n",
        "print(\"Matriks A :\")\n",
        "print(matriksA)\n",
        "\n",
        "print(\"Matriks B :\")\n",
        "print(matriksB)\n",
        "\n",
        "print(\"Perkalian Matriks : \")\n",
        "print(perkalian_biasa)"
      ]
    },
    {
      "cell_type": "code",
      "source": [
        "import numpy as np\n",
        "\n",
        "# PERKALIAN MATRIKS SKALAR\n",
        "\n",
        "matriksA = np.array([[1,2],\n",
        "                     [2,1]])\n",
        "k = 2\n",
        "perkalian_biasa = matriksA*k\n",
        "\n",
        "print(\"Matriks A :\")\n",
        "print(matriksA)\n",
        "\n",
        "print(\"k :\" , k)\n",
        "\n",
        "print(\"Perkalian Matriks : \")\n",
        "print(perkalian_biasa)"
      ],
      "metadata": {
        "colab": {
          "base_uri": "https://localhost:8080/"
        },
        "id": "_fWzB_8SF3O9",
        "outputId": "a1988bb9-0b6a-4802-bfe1-6c1576a3f925"
      },
      "execution_count": 3,
      "outputs": [
        {
          "output_type": "stream",
          "name": "stdout",
          "text": [
            "Matriks A :\n",
            "[[1 2]\n",
            " [2 1]]\n",
            "k : 2\n",
            "Perkalian Matriks : \n",
            "[[2 4]\n",
            " [4 2]]\n"
          ]
        }
      ]
    },
    {
      "cell_type": "code",
      "source": [
        "from google.colab import drive\n",
        "\n",
        "drive.mount('/content/drive')"
      ],
      "metadata": {
        "colab": {
          "base_uri": "https://localhost:8080/"
        },
        "id": "iPE0ft54F6V-",
        "outputId": "1a57ce50-c138-4f1f-ccb2-55b0e490aeed"
      },
      "execution_count": 1,
      "outputs": [
        {
          "output_type": "stream",
          "name": "stdout",
          "text": [
            "Mounted at /content/drive\n"
          ]
        }
      ]
    },
    {
      "cell_type": "code",
      "source": [
        "import matplotlib.image as image\n",
        "import numpy as np\n",
        "img=image.imread('/content/drive/MyDrive/galaxy.jpg')\n",
        "print(\"Matriks : \")\n",
        "print(img)"
      ],
      "metadata": {
        "colab": {
          "base_uri": "https://localhost:8080/"
        },
        "id": "Pxomm3KUF8QR",
        "outputId": "8d4797ef-b9e0-4815-bdaa-3d9ac462d8fc"
      },
      "execution_count": 2,
      "outputs": [
        {
          "output_type": "stream",
          "name": "stdout",
          "text": [
            "Matriks : \n",
            "[[[1 0 8]\n",
            "  [1 0 8]\n",
            "  [1 0 8]\n",
            "  ...\n",
            "  [1 0 5]\n",
            "  [1 0 5]\n",
            "  [1 0 5]]\n",
            "\n",
            " [[1 0 8]\n",
            "  [1 0 8]\n",
            "  [1 0 8]\n",
            "  ...\n",
            "  [1 0 5]\n",
            "  [1 0 5]\n",
            "  [1 0 5]]\n",
            "\n",
            " [[1 0 8]\n",
            "  [1 0 8]\n",
            "  [1 0 8]\n",
            "  ...\n",
            "  [1 0 5]\n",
            "  [1 0 5]\n",
            "  [1 0 5]]\n",
            "\n",
            " ...\n",
            "\n",
            " [[1 0 5]\n",
            "  [1 0 5]\n",
            "  [1 0 5]\n",
            "  ...\n",
            "  [1 0 5]\n",
            "  [1 0 5]\n",
            "  [1 0 5]]\n",
            "\n",
            " [[1 0 5]\n",
            "  [1 0 5]\n",
            "  [1 0 5]\n",
            "  ...\n",
            "  [1 0 5]\n",
            "  [1 0 5]\n",
            "  [1 0 5]]\n",
            "\n",
            " [[1 0 5]\n",
            "  [1 0 5]\n",
            "  [1 0 5]\n",
            "  ...\n",
            "  [1 0 5]\n",
            "  [1 0 5]\n",
            "  [1 0 5]]]\n"
          ]
        }
      ]
    }
  ]
}