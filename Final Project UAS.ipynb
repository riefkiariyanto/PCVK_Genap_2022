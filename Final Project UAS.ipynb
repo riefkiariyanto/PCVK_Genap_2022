{
  "nbformat": 4,
  "nbformat_minor": 0,
  "metadata": {
    "colab": {
      "name": "Untitled17.ipynb",
      "provenance": [],
      "collapsed_sections": [],
      "authorship_tag": "ABX9TyNc91PVjlbaCypSlBL9yjBC",
      "include_colab_link": true
    },
    "kernelspec": {
      "name": "python3",
      "display_name": "Python 3"
    },
    "language_info": {
      "name": "python"
    }
  },
  "cells": [
    {
      "cell_type": "markdown",
      "metadata": {
        "id": "view-in-github",
        "colab_type": "text"
      },
      "source": [
        "<a href=\"https://colab.research.google.com/github/riefkiariyanto/PCVK_Genap_2022/blob/main/Final%20Project%20UAS.ipynb\" target=\"_parent\"><img src=\"https://colab.research.google.com/assets/colab-badge.svg\" alt=\"Open In Colab\"/></a>"
      ]
    },
    {
      "cell_type": "code",
      "execution_count": null,
      "metadata": {
        "colab": {
          "base_uri": "https://localhost:8080/"
        },
        "id": "AcuNMHPaeuqh",
        "outputId": "880562a8-b03b-4dce-f016-d3e8ca94e1a8"
      },
      "outputs": [
        {
          "output_type": "stream",
          "name": "stdout",
          "text": [
            "Drive already mounted at /content/drive/; to attempt to forcibly remount, call drive.mount(\"/content/drive/\", force_remount=True).\n"
          ]
        }
      ],
      "source": [
        "from google.colab import drive\n",
        "\n",
        "drive.mount('/content/drive/')"
      ]
    },
    {
      "cell_type": "code",
      "source": [
        "import cv2,os\n",
        "\n",
        "data_path='/content/drive/MyDrive/dataset'\n",
        "categories=os.listdir(data_path)\n",
        "labels=[i for i in range(len(categories))]\n",
        "\n",
        "label_dict=dict(zip(categories,labels)) #empty dictionary\n",
        "\n",
        "print(label_dict)\n",
        "print(categories)\n",
        "print(labels)"
      ],
      "metadata": {
        "id": "2lVU1K6vg3gU",
        "colab": {
          "base_uri": "https://localhost:8080/"
        },
        "outputId": "8587c606-de39-49fa-f8ba-3d519827dd7c"
      },
      "execution_count": null,
      "outputs": [
        {
          "output_type": "stream",
          "name": "stdout",
          "text": [
            "{'with mask': 0, 'without mask': 1}\n",
            "['with mask', 'without mask']\n",
            "[0, 1]\n"
          ]
        }
      ]
    },
    {
      "cell_type": "code",
      "source": [
        "img_size=100\n",
        "data=[]\n",
        "target=[]\n",
        "\n",
        "\n",
        "for category in categories:\n",
        "    folder_path=os.path.join(data_path,category)\n",
        "    img_names=os.listdir(folder_path)\n",
        "        \n",
        "    for img_name in img_names:\n",
        "        img_path=os.path.join(folder_path,img_name)\n",
        "        img=cv2.imread(img_path)\n",
        "\n",
        "        try:\n",
        "            gray=cv2.cvtColor(img,cv2.COLOR_BGR2GRAY)           \n",
        "            #Coverting the image into gray scale\n",
        "            resized=cv2.resize(gray,(img_size,img_size))\n",
        "            #resizing the gray scale into 50x50, since we need a fixed common size for all the images in the dataset\n",
        "            data.append(resized)\n",
        "            target.append(label_dict[category])\n",
        "            #appending the image and the label(categorized) into the list (dataset)\n",
        "\n",
        "        except Exception as e:\n",
        "            print('Exception:',e)\n",
        "            #if any exception rasied, the exception will be printed here. And pass to "
      ],
      "metadata": {
        "id": "YoQwBFCHjwPe"
      },
      "execution_count": null,
      "outputs": []
    },
    {
      "cell_type": "code",
      "source": [
        "import numpy as np\n",
        "\n",
        "data=np.array(data)/255.0\n",
        "data=np.reshape(data,(data.shape[0],img_size,img_size,1))\n",
        "target=np.array(target)\n",
        "\n",
        "from keras.utils import np_utils\n",
        "\n",
        "new_target=np_utils.to_categorical(target)"
      ],
      "metadata": {
        "id": "9xgMbhMYj6x-"
      },
      "execution_count": null,
      "outputs": []
    },
    {
      "cell_type": "code",
      "source": [
        "np.save('/content/drive/MyDrive/dataset/data',data)\n",
        "np.save('/content/drive/MyDrive/dataset/target',new_target)"
      ],
      "metadata": {
        "id": "Dzebvx6ej-fR"
      },
      "execution_count": null,
      "outputs": []
    },
    {
      "cell_type": "code",
      "source": [
        "import numpy as np\n",
        "\n",
        "data=np.load('/content/drive/MyDrive/dataset/data.npy')\n",
        "target=np.load('/content/drive/MyDrive/dataset/target.npy')\n",
        "\n",
        "#loading the save numpy arrays in the previous code"
      ],
      "metadata": {
        "id": "BXTx1awZkHS2"
      },
      "execution_count": null,
      "outputs": []
    },
    {
      "cell_type": "code",
      "source": [
        "from keras.models import Sequential\n",
        "from keras.layers import Dense,Activation,Flatten,Dropout\n",
        "from keras.layers import Conv2D,MaxPooling2D\n",
        "from keras.callbacks import ModelCheckpoint\n",
        "\n",
        "model=Sequential()\n",
        "\n",
        "#The first CNN layer\n",
        "\n",
        "#Convolution layer of a kernel size 200\n",
        "model.add(Conv2D(200,(3,3),input_shape=data.shape[1:]))\n",
        "#Relu layer\n",
        "model.add(Activation('relu'))\n",
        "#MaxPooling layer\n",
        "model.add(MaxPooling2D(pool_size=(2,2)))\n",
        "\n",
        "#The second convolution layer\n",
        "\n",
        "#Convolution layer of a kernel size 100\n",
        "model.add(Conv2D(100,(3,3)))\n",
        "#Relu layer\n",
        "model.add(Activation('relu'))\n",
        "#MaxPooling layer\n",
        "model.add(MaxPooling2D(pool_size=(2,2)))\n",
        "\n",
        "#Flatten layer to stack the output convolutions from second convolution layer\n",
        "model.add(Flatten())\n",
        "\n",
        "#Performing Dropout to avoid overfitting\n",
        "model.add(Dropout(0.5))\n",
        "\n",
        "#Dense layer of 64 neurons\n",
        "model.add(Dense(50,activation='relu'))\n",
        "\n",
        "#The Final layer with two outputs for two categories\n",
        "model.add(Dense(2,activation='softmax'))\n",
        "\n",
        "#Compiling the model\n",
        "model.compile(loss='categorical_crossentropy',optimizer='adam',metrics=['accuracy'])"
      ],
      "metadata": {
        "id": "_aQWvkCckN5u"
      },
      "execution_count": null,
      "outputs": []
    },
    {
      "cell_type": "code",
      "source": [
        "model.summary()"
      ],
      "metadata": {
        "colab": {
          "base_uri": "https://localhost:8080/"
        },
        "id": "U-o-w4B-kQT3",
        "outputId": "e232106d-4748-47ba-ebca-d57f910796da"
      },
      "execution_count": null,
      "outputs": [
        {
          "output_type": "stream",
          "name": "stdout",
          "text": [
            "Model: \"sequential\"\n",
            "_________________________________________________________________\n",
            " Layer (type)                Output Shape              Param #   \n",
            "=================================================================\n",
            " conv2d (Conv2D)             (None, 98, 98, 200)       2000      \n",
            "                                                                 \n",
            " activation (Activation)     (None, 98, 98, 200)       0         \n",
            "                                                                 \n",
            " max_pooling2d (MaxPooling2D  (None, 49, 49, 200)      0         \n",
            " )                                                               \n",
            "                                                                 \n",
            " conv2d_1 (Conv2D)           (None, 47, 47, 100)       180100    \n",
            "                                                                 \n",
            " activation_1 (Activation)   (None, 47, 47, 100)       0         \n",
            "                                                                 \n",
            " max_pooling2d_1 (MaxPooling  (None, 23, 23, 100)      0         \n",
            " 2D)                                                             \n",
            "                                                                 \n",
            " flatten (Flatten)           (None, 52900)             0         \n",
            "                                                                 \n",
            " dropout (Dropout)           (None, 52900)             0         \n",
            "                                                                 \n",
            " dense (Dense)               (None, 50)                2645050   \n",
            "                                                                 \n",
            " dense_1 (Dense)             (None, 2)                 102       \n",
            "                                                                 \n",
            "=================================================================\n",
            "Total params: 2,827,252\n",
            "Trainable params: 2,827,252\n",
            "Non-trainable params: 0\n",
            "_________________________________________________________________\n"
          ]
        }
      ]
    },
    {
      "cell_type": "code",
      "source": [
        "from sklearn.model_selection import train_test_split\n",
        "\n",
        "train_data,test_data,train_target,test_target=train_test_split(data,target,test_size=0.1)"
      ],
      "metadata": {
        "id": "iR59s6GzkTBp"
      },
      "execution_count": null,
      "outputs": []
    },
    {
      "cell_type": "code",
      "source": [
        "checkpoint = ModelCheckpoint('model-{epoch:03d}.model',monitor='val_loss',verbose=0,save_best_only=True,mode='auto')\n",
        "\n",
        "history=model.fit(train_data,train_target,epochs=20,callbacks=[checkpoint],validation_split=0.2)"
      ],
      "metadata": {
        "colab": {
          "base_uri": "https://localhost:8080/"
        },
        "id": "5KXuvLiIkVYZ",
        "outputId": "1eee4250-fc8b-4c4e-da56-04797d9cd6dc"
      },
      "execution_count": null,
      "outputs": [
        {
          "output_type": "stream",
          "name": "stdout",
          "text": [
            "Epoch 1/20\n",
            "32/32 [==============================] - ETA: 0s - loss: 0.7148 - accuracy: 0.5574INFO:tensorflow:Assets written to: model-001.model/assets\n",
            "32/32 [==============================] - 92s 3s/step - loss: 0.7148 - accuracy: 0.5574 - val_loss: 0.6126 - val_accuracy: 0.7012\n",
            "Epoch 2/20\n",
            "32/32 [==============================] - ETA: 0s - loss: 0.5528 - accuracy: 0.7203INFO:tensorflow:Assets written to: model-002.model/assets\n",
            "32/32 [==============================] - 75s 2s/step - loss: 0.5528 - accuracy: 0.7203 - val_loss: 0.4252 - val_accuracy: 0.8008\n",
            "Epoch 3/20\n",
            "32/32 [==============================] - ETA: 0s - loss: 0.4061 - accuracy: 0.8242INFO:tensorflow:Assets written to: model-003.model/assets\n",
            "32/32 [==============================] - 76s 2s/step - loss: 0.4061 - accuracy: 0.8242 - val_loss: 0.3413 - val_accuracy: 0.8645\n",
            "Epoch 4/20\n",
            "32/32 [==============================] - ETA: 0s - loss: 0.2889 - accuracy: 0.8841INFO:tensorflow:Assets written to: model-004.model/assets\n",
            "32/32 [==============================] - 74s 2s/step - loss: 0.2889 - accuracy: 0.8841 - val_loss: 0.2662 - val_accuracy: 0.9163\n",
            "Epoch 5/20\n",
            "32/32 [==============================] - ETA: 0s - loss: 0.2391 - accuracy: 0.9041INFO:tensorflow:Assets written to: model-005.model/assets\n",
            "32/32 [==============================] - 76s 2s/step - loss: 0.2391 - accuracy: 0.9041 - val_loss: 0.2190 - val_accuracy: 0.9323\n",
            "Epoch 6/20\n",
            "32/32 [==============================] - ETA: 0s - loss: 0.1760 - accuracy: 0.9321INFO:tensorflow:Assets written to: model-006.model/assets\n",
            "32/32 [==============================] - 74s 2s/step - loss: 0.1760 - accuracy: 0.9321 - val_loss: 0.1844 - val_accuracy: 0.9442\n",
            "Epoch 7/20\n",
            "32/32 [==============================] - ETA: 0s - loss: 0.1354 - accuracy: 0.9550INFO:tensorflow:Assets written to: model-007.model/assets\n",
            "32/32 [==============================] - 74s 2s/step - loss: 0.1354 - accuracy: 0.9550 - val_loss: 0.1782 - val_accuracy: 0.9402\n",
            "Epoch 8/20\n",
            "32/32 [==============================] - ETA: 0s - loss: 0.0870 - accuracy: 0.9720INFO:tensorflow:Assets written to: model-008.model/assets\n",
            "32/32 [==============================] - 74s 2s/step - loss: 0.0870 - accuracy: 0.9720 - val_loss: 0.1471 - val_accuracy: 0.9681\n",
            "Epoch 9/20\n",
            "32/32 [==============================] - 75s 2s/step - loss: 0.0885 - accuracy: 0.9710 - val_loss: 0.1578 - val_accuracy: 0.9602\n",
            "Epoch 10/20\n",
            "32/32 [==============================] - 73s 2s/step - loss: 0.0636 - accuracy: 0.9800 - val_loss: 0.2395 - val_accuracy: 0.9363\n",
            "Epoch 11/20\n",
            "32/32 [==============================] - 73s 2s/step - loss: 0.0678 - accuracy: 0.9760 - val_loss: 0.2125 - val_accuracy: 0.9323\n",
            "Epoch 12/20\n",
            "32/32 [==============================] - 75s 2s/step - loss: 0.0724 - accuracy: 0.9710 - val_loss: 0.2293 - val_accuracy: 0.9323\n",
            "Epoch 13/20\n",
            "32/32 [==============================] - 73s 2s/step - loss: 0.0621 - accuracy: 0.9780 - val_loss: 0.2208 - val_accuracy: 0.9482\n",
            "Epoch 14/20\n",
            "32/32 [==============================] - ETA: 0s - loss: 0.0539 - accuracy: 0.9820INFO:tensorflow:Assets written to: model-014.model/assets\n",
            "32/32 [==============================] - 74s 2s/step - loss: 0.0539 - accuracy: 0.9820 - val_loss: 0.1234 - val_accuracy: 0.9681\n",
            "Epoch 15/20\n",
            "32/32 [==============================] - 73s 2s/step - loss: 0.0413 - accuracy: 0.9860 - val_loss: 0.1543 - val_accuracy: 0.9641\n",
            "Epoch 16/20\n",
            "32/32 [==============================] - 75s 2s/step - loss: 0.0319 - accuracy: 0.9890 - val_loss: 0.1685 - val_accuracy: 0.9602\n",
            "Epoch 17/20\n",
            "32/32 [==============================] - 73s 2s/step - loss: 0.0269 - accuracy: 0.9900 - val_loss: 0.1611 - val_accuracy: 0.9602\n",
            "Epoch 18/20\n",
            "32/32 [==============================] - 73s 2s/step - loss: 0.0220 - accuracy: 0.9920 - val_loss: 0.1535 - val_accuracy: 0.9641\n",
            "Epoch 19/20\n",
            "32/32 [==============================] - 73s 2s/step - loss: 0.0360 - accuracy: 0.9830 - val_loss: 0.1480 - val_accuracy: 0.9641\n",
            "Epoch 20/20\n",
            "32/32 [==============================] - 75s 2s/step - loss: 0.0532 - accuracy: 0.9820 - val_loss: 0.1528 - val_accuracy: 0.9681\n"
          ]
        }
      ]
    },
    {
      "cell_type": "code",
      "source": [
        "from matplotlib import pyplot as plt\n",
        "\n",
        "plt.plot(history.history['loss'],'r',label='training loss')\n",
        "plt.plot(history.history['val_loss'],label='validation loss')\n",
        "plt.xlabel('# epochs')\n",
        "plt.ylabel('loss')\n",
        "plt.legend()\n",
        "plt.show()"
      ],
      "metadata": {
        "colab": {
          "base_uri": "https://localhost:8080/",
          "height": 279
        },
        "id": "tC04KLa4kYCw",
        "outputId": "85a3f9fe-4c53-4279-e2b4-560fdbdbda88"
      },
      "execution_count": null,
      "outputs": [
        {
          "output_type": "display_data",
          "data": {
            "text/plain": [
              "<Figure size 432x288 with 1 Axes>"
            ],
            "image/png": "[encoded data removed]"
          },
          "metadata": {
            "needs_background": "light"
          }
        }
      ]
    },
    {
      "cell_type": "code",
      "source": [
        "plt.plot(history.history['accuracy'],'r',label='training accuracy')\n",
        "plt.plot(history.history['val_accuracy'],label='validation accuracy')\n",
        "plt.xlabel('# epochs')\n",
        "plt.ylabel('loss')\n",
        "plt.legend()\n",
        "plt.show()"
      ],
      "metadata": {
        "id": "qCnBGBDMuUM-"
      },
      "execution_count": null,
      "outputs": []
    },
    {
      "cell_type": "code",
      "source": [
        "print(model.evaluate(test_data,test_target))"
      ],
      "metadata": {
        "colab": {
          "base_uri": "https://localhost:8080/"
        },
        "id": "BBkDK6E6kaT2",
        "outputId": "1d52a329-c250-4cfd-8aba-4fd778364b2c"
      },
      "execution_count": null,
      "outputs": [
        {
          "output_type": "stream",
          "name": "stdout",
          "text": [
            "5/5 [==============================] - 3s 498ms/step - loss: 0.0872 - accuracy: 0.9643\n",
            "[0.08719142526388168, 0.9642857313156128]\n"
          ]
        }
      ]
    },
    {
      "cell_type": "code",
      "source": [
        "from keras.models import load_model\n",
        "import cv2\n",
        "import numpy as np"
      ],
      "metadata": {
        "id": "a__FmwVdkdr5"
      },
      "execution_count": null,
      "outputs": []
    },
    {
      "cell_type": "code",
      "source": [
        "model = load_model('/content/model-014.model')\n",
        "\n",
        "face_clsfr=cv2.CascadeClassifier('haarcascade_frontalface_default.xml')\n",
        "\n",
        "source=cv2.VideoCapture(0)\n",
        "width=int(source.get(cv2.CAP_PROP_FRAME_WIDTH))\n",
        "height=int(source.get(cv2.CAP_PROP_FRAME_HEIGHT))\n",
        "\n",
        "writer=cv2.VideoWriter(\"/content/drive/MyDrive/pcvk/outputfile.mp4\",cv2.VideoWriter_fourcc(*'DIVX'),20,(width,height))\n",
        "\n",
        "\n",
        "\n",
        "labels_dict={1:'MASK',0:'NO MASK'}\n",
        "color_dict={0:(0,0,255),1:(0,255,0)}"
      ],
      "metadata": {
        "id": "v269atjykfnq"
      },
      "execution_count": null,
      "outputs": []
    },
    {
      "cell_type": "code",
      "source": [
        "while(True):\n",
        "\n",
        "    ret,img=source.read()\n",
        "    gray=cv2.cvtColor(img,cv2.COLOR_BGR2GRAY)\n",
        "    faces=face_clsfr.detectMultiScale(gray,1.3,5)  \n",
        "\n",
        "    for (x,y,w,h) in faces:\n",
        "    \n",
        "        face_img=gray[y:y+w,x:x+w]\n",
        "        resized=cv2.resize(face_img,(100,100))\n",
        "        normalized=resized/255.0\n",
        "        reshaped=np.reshape(normalized,(1,100,100,1))\n",
        "        result=model.predict(reshaped)\n",
        "\n",
        "        label=np.argmax(result,axis=1)[0]\n",
        "      \n",
        "        cv2.rectangle(img,(x,y),(x+w,y+h),color_dict[label],2)\n",
        "        cv2.rectangle(img,(x,y-40),(x+w,y),color_dict[label],-1)\n",
        "        cv2.putText(img, labels_dict[label], (x, y-10),cv2.FONT_HERSHEY_SIMPLEX,0.8,(255,255,255),2)\n",
        "        \n",
        "        \n",
        "    cv2.imshow('Face Mask Detector',img)\n",
        "    writer.write(img)\n",
        "    key=cv2.waitKey(1)\n",
        "    \n",
        "    if(key==27):\n",
        "        break\n",
        "source.release()\n",
        "writer.release()       \n",
        "cv2.destroyAllWindows()"
      ],
      "metadata": {
        "id": "kjyK4H06qmm1"
      },
      "execution_count": null,
      "outputs": []
    }
  ]
}